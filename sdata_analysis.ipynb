{
 "cells": [
  {
   "cell_type": "markdown",
   "metadata": {},
   "source": [
    "Environment: Harpy"
   ]
  },
  {
   "cell_type": "markdown",
   "metadata": {},
   "source": [
    "### Import packages"
   ]
  },
  {
   "cell_type": "code",
   "execution_count": null,
   "metadata": {},
   "outputs": [],
   "source": [
    "%load_ext autoreload\n",
    "%autoreload 2"
   ]
  },
  {
   "cell_type": "code",
   "execution_count": null,
   "metadata": {},
   "outputs": [],
   "source": [
    "import anndata as ad\n",
    "import sparrow as sp\n",
    "import os\n",
    "from napari_spatialdata import Interactive\n",
    "import numpy as np\n",
    "import pandas as pd\n",
    "import geopandas as gpd\n",
    "from skimage import io, morphology\n",
    "\n",
    "from sparrow.utils._keys import _INSTANCE_KEY, _REGION_KEY\n",
    "from spatialdata.models import ShapesModel"
   ]
  },
  {
   "cell_type": "markdown",
   "metadata": {},
   "source": [
    "### Specify paths"
   ]
  },
  {
   "cell_type": "code",
   "execution_count": null,
   "metadata": {},
   "outputs": [],
   "source": [
    "input_path = r'D:\\Data\\2024-11-NovaST-BrettBoonen-ThVo\\data\\processed'\n",
    "output_path = os.path.join(input_path, 'harpy')\n",
    "os.makedirs(output_path, exist_ok=True)"
   ]
  },
  {
   "cell_type": "markdown",
   "metadata": {},
   "source": [
    "### Create sdata"
   ]
  },
  {
   "cell_type": "code",
   "execution_count": null,
   "metadata": {},
   "outputs": [],
   "source": [
    "sdata = sp.io.create_sdata(\n",
    "    input=os.path.join(input_path, r'NOS__9c1b29__Nose_Epithelum_10um_NovaST_HE_Aligned_inverted.tif'),\n",
    "    output_path=os.path.join(output_path, \"sdata.zarr\"),\n",
    "    img_layer=\"HE\",\n",
    "    chunks=1024,\n",
    "    scale_factors=(2, 2, 2, 2),\n",
    ")\n",
    "sdata"
   ]
  },
  {
   "cell_type": "markdown",
   "metadata": {},
   "source": [
    "### Add anndata"
   ]
  },
  {
   "cell_type": "code",
   "execution_count": null,
   "metadata": {},
   "outputs": [],
   "source": [
    "def add_NovaST_adata(sdata, adata_name, adata_path, radius):\n",
    "    # Read adata\n",
    "    adata = ad.read_h5ad(adata_path)\n",
    "\n",
    "    # Change indexes and add region and instance key\n",
    "    adata.obs.reset_index(inplace=True)\n",
    "    adata.obs.index = adata.obs.index + 1 \n",
    "    adata.obs.index.name = 'cells'\n",
    "    \n",
    "    adata.obs[_REGION_KEY] = f\"labels_spots_{adata_name}\"\n",
    "    adata.obs[_INSTANCE_KEY] = adata.obs.index\n",
    "\n",
    "    # Add shapes and labels layer based on coordinates\n",
    "    adata.obsm['spatial_pxl'] = adata.obsm['spatial']\n",
    "    adata.obsm['spatial'] = adata.obsm['spatial_um']  \n",
    "    \n",
    "    labels_shape = (6930, 6967) # FIXME: is currently hardcoded\n",
    "    labels_img = np.zeros(labels_shape, dtype=np.int32)\n",
    "\n",
    "    for (x, y), cell_id in zip(adata.obsm['spatial'], adata.obs[_INSTANCE_KEY]):\n",
    "        x, y = int(x), int(y)\n",
    "        if 0 <= y < labels_shape[0] and 0 <= x < labels_shape[1]:\n",
    "            labels_img[y, x] = cell_id\n",
    "    \n",
    "    sdata = sp.im.add_labels_layer(sdata, arr=labels_img, output_layer=f\"labels_spots_{adata_name}\", chunks=1024, scale_factors=(2, 2, 2, 2), overwrite=True)\n",
    "    sdata = sp.im.expand_labels_layer(sdata, labels_layer=f\"labels_spots_{adata_name}\", distance=radius, output_labels_layer=f\"labels_spots_{adata_name}\", output_shapes_layer=f\"spots_{adata_name}\", chunks=1024, scale_factors=(2, 2, 2, 2), overwrite=True)\n",
    "\n",
    "    # Add adata as table layer\n",
    "    sdata = sp.tb.add_table_layer(sdata, adata=adata.copy(), output_layer=adata_name, region=[f\"labels_spots_{adata_name}\"], overwrite=True)\n",
    "\n",
    "    return sdata\n"
   ]
  },
  {
   "cell_type": "code",
   "execution_count": null,
   "metadata": {},
   "outputs": [],
   "source": [
    "adata_paths = {\n",
    "    '10um': os.path.join(input_path, 'NOS__9c1b29__Nose_Epithelum_10um.h5ad'),\n",
    "    '20um': os.path.join(input_path, 'NOS__9c1b29__Nose_Epithelum_20um.h5ad'),\n",
    "    '40um': os.path.join(input_path, 'NOS__9c1b29__Nose_Epithelum_40um.h5ad'),\n",
    "    '100um': os.path.join(input_path, 'NOS__9c1b29__Nose_Epithelum_100um.h5ad')\n",
    "    }\n",
    "\n",
    "for adata_name, adata_path in adata_paths.items():\n",
    "    radius = int(adata_name[:-2]) / 2\n",
    "    \n",
    "    sdata = add_NovaST_adata(\n",
    "        sdata,\n",
    "        adata_name = adata_name, \n",
    "        adata_path = adata_path,\n",
    "        radius = radius\n",
    "    )"
   ]
  },
  {
   "cell_type": "markdown",
   "metadata": {},
   "source": [
    "### Sum expression of genes of interest"
   ]
  },
  {
   "cell_type": "code",
   "execution_count": null,
   "metadata": {},
   "outputs": [],
   "source": [
    "def sum_genes(sdata, adata_name, genes):\n",
    "    adata = sdata.tables[adata_name].copy()\n",
    "\n",
    "    sum = adata[:, genes].X.sum(axis=1)\n",
    "    adata.obs['sum'] = np.array(sum).flatten()\n",
    "\n",
    "    # Add adata as table layer\n",
    "    sdata = sp.tb.add_table_layer(sdata, adata=adata.copy(), output_layer=adata_name, region=[f\"labels_spots_{adata_name}\"], overwrite=True)\n",
    "\n",
    "    return sdata\n"
   ]
  },
  {
   "cell_type": "code",
   "execution_count": null,
   "metadata": {},
   "outputs": [],
   "source": [
    "for adata_name in adata_paths:\n",
    "    sdata = sum_genes(\n",
    "        sdata, \n",
    "        adata_name=adata_name,\n",
    "        genes = ['Trpm5', 'Pou2f3', 'Avil', 'Ltc4s']\n",
    "    ) "
   ]
  },
  {
   "cell_type": "markdown",
   "metadata": {},
   "source": [
    "### Add tissue mask"
   ]
  },
  {
   "cell_type": "code",
   "execution_count": null,
   "metadata": {},
   "outputs": [],
   "source": [
    "tissue_mask = io.imread(os.path.join(output_path, 'tissue_mask_ilastik.tiff'))\n",
    "tissue_mask = (tissue_mask == 1)\n",
    "tissue_mask = morphology.remove_small_objects(tissue_mask, min_size=50000)\n",
    "tissue_mask = morphology.remove_small_holes(tissue_mask, area_threshold=5000)\n",
    "\n",
    "sdata = sp.im.add_labels_layer(\n",
    "    sdata, \n",
    "    arr=tissue_mask, \n",
    "    output_layer=\"tissue_mask\", \n",
    "    chunks=1024, \n",
    "    overwrite=True)"
   ]
  },
  {
   "cell_type": "markdown",
   "metadata": {},
   "source": [
    "### Filter out spots not in tissue"
   ]
  },
  {
   "cell_type": "code",
   "execution_count": null,
   "metadata": {},
   "outputs": [],
   "source": [
    "def add_in_tissue(sdata, table_layer, tissue_mask):\n",
    "    def assign_region(centroid, mask, mask_shape):\n",
    "        x, y = int(round(centroid[0])), int(round(centroid[1]))\n",
    "        \n",
    "        if 0 <= y < mask_shape[0] and 0 <= x < mask_shape[1]:\n",
    "            return 1 if mask[y, x] == 1 else 0\n",
    "        return 0  # Outside mask bounds\n",
    "\n",
    "    adata = sdata.tables[table_layer].copy()\n",
    "    coordinates = adata.obsm['spatial']\n",
    "    coordinates_df = pd.DataFrame(coordinates, columns=[\"x\", \"y\"], index=adata.obs.index)\n",
    "\n",
    "    mask_shape = tissue_mask.shape\n",
    "    adata.obs[\"in_tissue\"] = coordinates_df.apply(\n",
    "        lambda row: assign_region((row[\"x\"], row[\"y\"]), tissue_mask, mask_shape), axis=1\n",
    "    )\n",
    "\n",
    "    sdata = sp.tb.add_table_layer(\n",
    "        sdata,\n",
    "        adata=adata.copy(),\n",
    "        output_layer=table_layer,\n",
    "        region=[f\"labels_spots_{table_layer}\"],\n",
    "        overwrite=True,\n",
    "    )\n",
    "    \n",
    "    adata_in_tissue = adata[adata.obs[\"in_tissue\"] == 1].copy()\n",
    "    \n",
    "    sdata = sp.tb.add_table_layer(\n",
    "        sdata,\n",
    "        adata=adata_in_tissue.copy(),\n",
    "        output_layer=f'{table_layer}_in_tissue',\n",
    "        region=[f\"labels_spots_{table_layer}\"],\n",
    "        overwrite=True,\n",
    "    )\n",
    "\n",
    "    return sdata\n"
   ]
  },
  {
   "cell_type": "code",
   "execution_count": null,
   "metadata": {},
   "outputs": [],
   "source": [
    "for adata_name in adata_paths:\n",
    "    sdata = add_in_tissue(\n",
    "        sdata, \n",
    "        table_layer = adata_name, \n",
    "        tissue_mask = sdata.labels['tissue_mask'].compute().data\n",
    "    )"
   ]
  },
  {
   "cell_type": "markdown",
   "metadata": {},
   "source": [
    "### Plots"
   ]
  },
  {
   "cell_type": "code",
   "execution_count": null,
   "metadata": {},
   "outputs": [],
   "source": [
    "for adata_name in adata_paths:\n",
    "    output_path_plots = os.path.join(output_path, adata_name)\n",
    "    os.makedirs(output_path_plots, exist_ok=True)\n",
    "    \n",
    "    crd = [4000,5000, 2500,3500]\n",
    "    \n",
    "    sp.pl.plot_shapes(\n",
    "        sdata,\n",
    "        img_layer = \"HE\",\n",
    "        channel = 0,\n",
    "        figsize = (25,25),\n",
    "        output = os.path.join(output_path_plots, \"HE\")\n",
    "    )\n",
    "    \n",
    "    sp.pl.plot_shapes(\n",
    "        sdata,\n",
    "        img_layer = \"HE\",\n",
    "        channel = 0,\n",
    "        crd = crd,\n",
    "        figsize = (25,25),\n",
    "        output = os.path.join(output_path_plots, \"crop_HE\")\n",
    "    )\n",
    "    \n",
    "    for column in ['total_counts', 'n_genes_by_counts', 'Trpm5', 'Pou2f3', 'Avil', 'Ltc4s', 'sum']:        \n",
    "        sp.pl.plot_shapes(\n",
    "            sdata,\n",
    "            img_layer = \"HE\",\n",
    "            shapes_layer = f\"spots_{adata_name}\",\n",
    "            channel = 0,\n",
    "            table_layer = adata_name,\n",
    "            column = column,\n",
    "            alpha = 1,\n",
    "            linewidth = 0,\n",
    "            figsize = (25,25),\n",
    "            output = os.path.join(output_path_plots, column)\n",
    "        )\n",
    "        \n",
    "        sp.pl.plot_shapes(\n",
    "            sdata,\n",
    "            img_layer = \"HE\",\n",
    "            shapes_layer = f\"spots_{adata_name}\",\n",
    "            channel = 0,\n",
    "            crd = crd,\n",
    "            table_layer = adata_name,\n",
    "            column = column,\n",
    "            alpha = 0.7,\n",
    "            linewidth = 0,\n",
    "            figsize = (25,25),\n",
    "            output = os.path.join(output_path_plots, f'crop_{column}')\n",
    "        )\n",
    "        \n",
    "        sp.pl.plot_shapes(\n",
    "            sdata,\n",
    "            img_layer = \"HE\",\n",
    "            shapes_layer = f\"spots_{adata_name}\",\n",
    "            channel = 0,\n",
    "            table_layer = f'{adata_name}_in_tissue',\n",
    "            column = column,\n",
    "            alpha = 1,\n",
    "            linewidth = 0,\n",
    "            figsize = (25,25),\n",
    "            output = os.path.join(output_path_plots, f'tissue_{column}')\n",
    "        )\n",
    "        \n",
    "        sp.pl.plot_shapes(\n",
    "            sdata,\n",
    "            img_layer = \"HE\",\n",
    "            shapes_layer = f\"spots_{adata_name}\",\n",
    "            channel = 0,\n",
    "            crd = crd,\n",
    "            table_layer = f'{adata_name}_in_tissue',\n",
    "            column = column,\n",
    "            alpha = 0.7,\n",
    "            linewidth = 0,\n",
    "            figsize = (25,25),\n",
    "            output = os.path.join(output_path_plots, f'tissue_crop_{column}')\n",
    "        )"
   ]
  },
  {
   "cell_type": "markdown",
   "metadata": {},
   "source": [
    "### Leiden clustering"
   ]
  },
  {
   "cell_type": "code",
   "execution_count": null,
   "metadata": {},
   "outputs": [],
   "source": [
    "import gc # garbage collection to avoid out-of-memory issues.\n",
    "\n",
    "for adata_name in adata_paths:\n",
    "    print(f'running: {adata_name}')\n",
    "    \n",
    "    output_path_plots = os.path.join(output_path, adata_name)\n",
    "    os.makedirs(output_path_plots, exist_ok=True)\n",
    "    \n",
    "    crd = [4000,5000, 2500,3500]\n",
    "    \n",
    "    # Preprocess data\n",
    "    sdata = sp.tb.preprocess_transcriptomics(\n",
    "        sdata=sdata,\n",
    "        size_norm=False,\n",
    "        labels_layer=f\"labels_spots_{adata_name}\",\n",
    "        table_layer=f'{adata_name}_in_tissue',\n",
    "        output_layer=f\"{adata_name}_in_tissue_processed\",\n",
    "        min_counts=50,\n",
    "        min_cells=5,\n",
    "        highly_variable_genes=True,\n",
    "        max_value_scale=10,\n",
    "        n_comps = 50,\n",
    "        update_shapes_layers=False,\n",
    "        overwrite=True\n",
    "    )\n",
    "    \n",
    "    gc.collect()\n",
    "    \n",
    "    # Leiden clustering\n",
    "    leiden_resolutions = [0.4, 0.6, 0.8]\n",
    "\n",
    "    for res in leiden_resolutions:\n",
    "        res_str = str(res).replace('.', '')\n",
    "        \n",
    "        sdata = sp.tb.leiden(\n",
    "            sdata, \n",
    "            labels_layer=f\"labels_spots_{adata_name}\",\n",
    "            table_layer=f\"{adata_name}_in_tissue_processed\",\n",
    "            output_layer=f\"{adata_name}_in_tissue_processed\",\n",
    "            calculate_umap=True,\n",
    "            calculate_neighbors=True,\n",
    "            rank_genes=True,\n",
    "            n_neighbors=35,\n",
    "            n_pcs=30,\n",
    "            resolution=res,\n",
    "            key_added=f'leiden_{res_str}',\n",
    "            index_names_var=None,\n",
    "            index_positions_var=None,\n",
    "            random_state=100,\n",
    "            overwrite=True\n",
    "        )\n",
    "        \n",
    "        sp.pl.cluster(\n",
    "            sdata, \n",
    "            table_layer = f\"{adata_name}_in_tissue_processed\",\n",
    "            key_added=f'leiden_{res_str}',\n",
    "            output=os.path.join(output_path_plots, f'UMAP_leiden_{res_str}')\n",
    "        )\n",
    "        \n",
    "        sp.pl.plot_shapes(\n",
    "            sdata,\n",
    "            img_layer = \"HE\",\n",
    "            shapes_layer = f\"spots_{adata_name}\",\n",
    "            channel = 0,\n",
    "            table_layer = f\"{adata_name}_in_tissue_processed\",\n",
    "            column = f'leiden_{res_str}',\n",
    "            alpha = 1,\n",
    "            linewidth = 0,\n",
    "            cmap = \"rainbow\",\n",
    "            figsize = (25,25),\n",
    "            output = os.path.join(output_path_plots, f'leiden_{res_str}')\n",
    "        )\n",
    "        \n",
    "        sp.pl.plot_shapes(\n",
    "            sdata,\n",
    "            img_layer = \"HE\",\n",
    "            shapes_layer = f\"spots_{adata_name}\",\n",
    "            channel = 0,\n",
    "            crd = crd,\n",
    "            table_layer = f\"{adata_name}_in_tissue_processed\",\n",
    "            column = f'leiden_{res_str}',\n",
    "            alpha = 0.8,\n",
    "            linewidth = 0,\n",
    "            cmap = \"rainbow\",\n",
    "            figsize = (25,25),\n",
    "            output = os.path.join(output_path_plots, f'crop_leiden_{res_str}')\n",
    "        )\n",
    "    \n",
    "        gc.collect()"
   ]
  },
  {
   "cell_type": "markdown",
   "metadata": {},
   "source": [
    "### Save adata tables"
   ]
  },
  {
   "cell_type": "code",
   "execution_count": null,
   "metadata": {},
   "outputs": [],
   "source": [
    "for adata_name in adata_paths:\n",
    "    \n",
    "    output_path_plots = os.path.join(output_path, adata_name)\n",
    "    os.makedirs(output_path_plots, exist_ok=True)\n",
    "\n",
    "    sdata.tables[adata_name].write(f'{output_path_plots}/adata_{adata_name}.h5ad')\n",
    "    sdata.tables[f'{adata_name}_in_tissue_processed'].write(f'{output_path_plots}/adata_{adata_name}_in_tissue_processed.h5ad')"
   ]
  },
  {
   "cell_type": "markdown",
   "metadata": {},
   "source": [
    "## OPTIONAL: Explore sdata interactively"
   ]
  },
  {
   "cell_type": "code",
   "execution_count": null,
   "metadata": {},
   "outputs": [],
   "source": [
    "Interactive(sdata)"
   ]
  }
 ],
 "metadata": {
  "kernelspec": {
   "display_name": "harpy",
   "language": "python",
   "name": "python3"
  },
  "language_info": {
   "codemirror_mode": {
    "name": "ipython",
    "version": 3
   },
   "file_extension": ".py",
   "mimetype": "text/x-python",
   "name": "python",
   "nbconvert_exporter": "python",
   "pygments_lexer": "ipython3",
   "version": "3.10.8"
  }
 },
 "nbformat": 4,
 "nbformat_minor": 2
}
